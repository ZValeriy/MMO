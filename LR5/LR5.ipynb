{
 "cells": [
  {
   "cell_type": "code",
   "execution_count": 140,
   "metadata": {},
   "outputs": [],
   "source": [
    "import numpy as np\n",
    "import pandas as pd\n",
    "import seaborn as sns\n",
    "import matplotlib.pyplot as plt\n",
    "from sklearn import preprocessing, svm\n",
    "from sklearn import model_selection\n",
    "from sklearn.model_selection import train_test_split\n",
    "from sklearn.linear_model import BayesianRidge\n",
    "from sklearn.tree import DecisionTreeClassifier, DecisionTreeRegressor, export_graphviz\n",
    "from sklearn.metrics import r2_score\n",
    "%matplotlib inline \n",
    "sns.set(style=\"ticks\")\n",
    "\n",
    "import warnings\n",
    "warnings.filterwarnings('ignore')"
   ]
  },
  {
   "cell_type": "code",
   "execution_count": 5,
   "metadata": {},
   "outputs": [],
   "source": [
    "data = pd.read_csv(\"advertising.csv\")"
   ]
  },
  {
   "cell_type": "code",
   "execution_count": 6,
   "metadata": {},
   "outputs": [
    {
     "data": {
      "text/html": [
       "<div>\n",
       "<style scoped>\n",
       "    .dataframe tbody tr th:only-of-type {\n",
       "        vertical-align: middle;\n",
       "    }\n",
       "\n",
       "    .dataframe tbody tr th {\n",
       "        vertical-align: top;\n",
       "    }\n",
       "\n",
       "    .dataframe thead th {\n",
       "        text-align: right;\n",
       "    }\n",
       "</style>\n",
       "<table border=\"1\" class=\"dataframe\">\n",
       "  <thead>\n",
       "    <tr style=\"text-align: right;\">\n",
       "      <th></th>\n",
       "      <th>TV</th>\n",
       "      <th>Radio</th>\n",
       "      <th>Newspaper</th>\n",
       "      <th>Sales</th>\n",
       "    </tr>\n",
       "  </thead>\n",
       "  <tbody>\n",
       "    <tr>\n",
       "      <th>1</th>\n",
       "      <td>230.1</td>\n",
       "      <td>37.8</td>\n",
       "      <td>69.2</td>\n",
       "      <td>22.1</td>\n",
       "    </tr>\n",
       "    <tr>\n",
       "      <th>2</th>\n",
       "      <td>44.5</td>\n",
       "      <td>39.3</td>\n",
       "      <td>45.1</td>\n",
       "      <td>10.4</td>\n",
       "    </tr>\n",
       "  </tbody>\n",
       "</table>\n",
       "</div>"
      ],
      "text/plain": [
       "      TV  Radio  Newspaper  Sales\n",
       "1  230.1   37.8       69.2   22.1\n",
       "2   44.5   39.3       45.1   10.4"
      ]
     },
     "execution_count": 6,
     "metadata": {},
     "output_type": "execute_result"
    }
   ],
   "source": [
    "data.head(2)"
   ]
  },
  {
   "cell_type": "code",
   "execution_count": 7,
   "metadata": {},
   "outputs": [
    {
     "data": {
      "text/html": [
       "<div>\n",
       "<style scoped>\n",
       "    .dataframe tbody tr th:only-of-type {\n",
       "        vertical-align: middle;\n",
       "    }\n",
       "\n",
       "    .dataframe tbody tr th {\n",
       "        vertical-align: top;\n",
       "    }\n",
       "\n",
       "    .dataframe thead th {\n",
       "        text-align: right;\n",
       "    }\n",
       "</style>\n",
       "<table border=\"1\" class=\"dataframe\">\n",
       "  <thead>\n",
       "    <tr style=\"text-align: right;\">\n",
       "      <th></th>\n",
       "      <th>TV</th>\n",
       "      <th>Radio</th>\n",
       "      <th>Newspaper</th>\n",
       "      <th>Sales</th>\n",
       "    </tr>\n",
       "  </thead>\n",
       "  <tbody>\n",
       "    <tr>\n",
       "      <th>count</th>\n",
       "      <td>200.000000</td>\n",
       "      <td>200.000000</td>\n",
       "      <td>200.000000</td>\n",
       "      <td>200.000000</td>\n",
       "    </tr>\n",
       "    <tr>\n",
       "      <th>mean</th>\n",
       "      <td>147.042500</td>\n",
       "      <td>23.264000</td>\n",
       "      <td>30.554000</td>\n",
       "      <td>14.022500</td>\n",
       "    </tr>\n",
       "    <tr>\n",
       "      <th>std</th>\n",
       "      <td>85.854236</td>\n",
       "      <td>14.846809</td>\n",
       "      <td>21.778621</td>\n",
       "      <td>5.217457</td>\n",
       "    </tr>\n",
       "    <tr>\n",
       "      <th>min</th>\n",
       "      <td>0.700000</td>\n",
       "      <td>0.000000</td>\n",
       "      <td>0.300000</td>\n",
       "      <td>1.600000</td>\n",
       "    </tr>\n",
       "    <tr>\n",
       "      <th>25%</th>\n",
       "      <td>74.375000</td>\n",
       "      <td>9.975000</td>\n",
       "      <td>12.750000</td>\n",
       "      <td>10.375000</td>\n",
       "    </tr>\n",
       "    <tr>\n",
       "      <th>50%</th>\n",
       "      <td>149.750000</td>\n",
       "      <td>22.900000</td>\n",
       "      <td>25.750000</td>\n",
       "      <td>12.900000</td>\n",
       "    </tr>\n",
       "    <tr>\n",
       "      <th>75%</th>\n",
       "      <td>218.825000</td>\n",
       "      <td>36.525000</td>\n",
       "      <td>45.100000</td>\n",
       "      <td>17.400000</td>\n",
       "    </tr>\n",
       "    <tr>\n",
       "      <th>max</th>\n",
       "      <td>296.400000</td>\n",
       "      <td>49.600000</td>\n",
       "      <td>114.000000</td>\n",
       "      <td>27.000000</td>\n",
       "    </tr>\n",
       "  </tbody>\n",
       "</table>\n",
       "</div>"
      ],
      "text/plain": [
       "               TV       Radio   Newspaper       Sales\n",
       "count  200.000000  200.000000  200.000000  200.000000\n",
       "mean   147.042500   23.264000   30.554000   14.022500\n",
       "std     85.854236   14.846809   21.778621    5.217457\n",
       "min      0.700000    0.000000    0.300000    1.600000\n",
       "25%     74.375000    9.975000   12.750000   10.375000\n",
       "50%    149.750000   22.900000   25.750000   12.900000\n",
       "75%    218.825000   36.525000   45.100000   17.400000\n",
       "max    296.400000   49.600000  114.000000   27.000000"
      ]
     },
     "execution_count": 7,
     "metadata": {},
     "output_type": "execute_result"
    }
   ],
   "source": [
    "data.describe()"
   ]
  },
  {
   "cell_type": "code",
   "execution_count": 8,
   "metadata": {
    "scrolled": true
   },
   "outputs": [
    {
     "name": "stdout",
     "output_type": "stream",
     "text": [
      "<class 'pandas.core.frame.DataFrame'>\n",
      "Int64Index: 200 entries, 1 to 200\n",
      "Data columns (total 4 columns):\n",
      " #   Column     Non-Null Count  Dtype  \n",
      "---  ------     --------------  -----  \n",
      " 0   TV         200 non-null    float64\n",
      " 1   Radio      200 non-null    float64\n",
      " 2   Newspaper  200 non-null    float64\n",
      " 3   Sales      200 non-null    float64\n",
      "dtypes: float64(4)\n",
      "memory usage: 7.8 KB\n"
     ]
    }
   ],
   "source": [
    "data.info()"
   ]
  },
  {
   "cell_type": "code",
   "execution_count": 9,
   "metadata": {},
   "outputs": [
    {
     "data": {
      "text/plain": [
       "Index(['TV', 'Radio', 'Newspaper', 'Sales'], dtype='object')"
      ]
     },
     "execution_count": 9,
     "metadata": {},
     "output_type": "execute_result"
    }
   ],
   "source": [
    "data.columns"
   ]
  },
  {
   "cell_type": "code",
   "execution_count": 12,
   "metadata": {
    "scrolled": true
   },
   "outputs": [
    {
     "data": {
      "text/plain": [
       "<seaborn.axisgrid.FacetGrid at 0x133706f10>"
      ]
     },
     "execution_count": 12,
     "metadata": {},
     "output_type": "execute_result"
    },
    {
     "data": {
      "image/png": "[encoded data removed]",
      "text/plain": [
       "<Figure size 360x360 with 1 Axes>"
      ]
     },
     "metadata": {},
     "output_type": "display_data"
    }
   ],
   "source": [
    "sns.lmplot(x=\"TV\", y=\"Sales\", data=data, order=2, ci=None)"
   ]
  },
  {
   "cell_type": "code",
   "execution_count": 15,
   "metadata": {
    "scrolled": true
   },
   "outputs": [
    {
     "data": {
      "text/plain": [
       "<seaborn.axisgrid.FacetGrid at 0x1357f9d90>"
      ]
     },
     "execution_count": 15,
     "metadata": {},
     "output_type": "execute_result"
    },
    {
     "data": {
      "image/png": "[encoded data removed]",
      "text/plain": [
       "<Figure size 360x360 with 1 Axes>"
      ]
     },
     "metadata": {},
     "output_type": "display_data"
    }
   ],
   "source": [
    "sns.lmplot(x=\"Radio\", y=\"Sales\", data=data, order=2, ci=None)"
   ]
  },
  {
   "cell_type": "code",
   "execution_count": 16,
   "metadata": {
    "scrolled": true
   },
   "outputs": [
    {
     "data": {
      "text/plain": [
       "<seaborn.axisgrid.FacetGrid at 0x135878550>"
      ]
     },
     "execution_count": 16,
     "metadata": {},
     "output_type": "execute_result"
    },
    {
     "data": {
      "image/png": "[encoded data removed]",
      "text/plain": [
       "<Figure size 360x360 with 1 Axes>"
      ]
     },
     "metadata": {},
     "output_type": "display_data"
    }
   ],
   "source": [
    "sns.lmplot(x=\"Newspaper\", y=\"Sales\", data=data, order=2, ci=None)"
   ]
  },
  {
   "cell_type": "code",
   "execution_count": 18,
   "metadata": {
    "scrolled": true
   },
   "outputs": [
    {
     "data": {
      "text/html": [
       "<div>\n",
       "<style scoped>\n",
       "    .dataframe tbody tr th:only-of-type {\n",
       "        vertical-align: middle;\n",
       "    }\n",
       "\n",
       "    .dataframe tbody tr th {\n",
       "        vertical-align: top;\n",
       "    }\n",
       "\n",
       "    .dataframe thead th {\n",
       "        text-align: right;\n",
       "    }\n",
       "</style>\n",
       "<table border=\"1\" class=\"dataframe\">\n",
       "  <thead>\n",
       "    <tr style=\"text-align: right;\">\n",
       "      <th></th>\n",
       "      <th>TV</th>\n",
       "      <th>Radio</th>\n",
       "      <th>Newspaper</th>\n",
       "      <th>Sales</th>\n",
       "    </tr>\n",
       "  </thead>\n",
       "  <tbody>\n",
       "    <tr>\n",
       "      <th>TV</th>\n",
       "      <td>1.000000</td>\n",
       "      <td>0.054809</td>\n",
       "      <td>0.056648</td>\n",
       "      <td>0.782224</td>\n",
       "    </tr>\n",
       "    <tr>\n",
       "      <th>Radio</th>\n",
       "      <td>0.054809</td>\n",
       "      <td>1.000000</td>\n",
       "      <td>0.354104</td>\n",
       "      <td>0.576223</td>\n",
       "    </tr>\n",
       "    <tr>\n",
       "      <th>Newspaper</th>\n",
       "      <td>0.056648</td>\n",
       "      <td>0.354104</td>\n",
       "      <td>1.000000</td>\n",
       "      <td>0.228299</td>\n",
       "    </tr>\n",
       "    <tr>\n",
       "      <th>Sales</th>\n",
       "      <td>0.782224</td>\n",
       "      <td>0.576223</td>\n",
       "      <td>0.228299</td>\n",
       "      <td>1.000000</td>\n",
       "    </tr>\n",
       "  </tbody>\n",
       "</table>\n",
       "</div>"
      ],
      "text/plain": [
       "                 TV     Radio  Newspaper     Sales\n",
       "TV         1.000000  0.054809   0.056648  0.782224\n",
       "Radio      0.054809  1.000000   0.354104  0.576223\n",
       "Newspaper  0.056648  0.354104   1.000000  0.228299\n",
       "Sales      0.782224  0.576223   0.228299  1.000000"
      ]
     },
     "execution_count": 18,
     "metadata": {},
     "output_type": "execute_result"
    }
   ],
   "source": [
    "data.corr()"
   ]
  },
  {
   "cell_type": "markdown",
   "metadata": {},
   "source": [
    "## Между TV и Sales есть корреляция 0.78"
   ]
  },
  {
   "cell_type": "code",
   "execution_count": 152,
   "metadata": {},
   "outputs": [
    {
     "data": {
      "text/plain": [
       "7.054854152265513"
      ]
     },
     "execution_count": 152,
     "metadata": {},
     "output_type": "execute_result"
    }
   ],
   "source": [
    "x = data[\"TV\"].values\n",
    "y = data[\"Sales\"].values\n",
    "\n",
    "reg = BayesianRidge(fit_intercept=True).fit(x.reshape(-1, 1), y.reshape(-1, 1))\n",
    "reg.coef_\n",
    "reg.intercept_"
   ]
  },
  {
   "cell_type": "code",
   "execution_count": 153,
   "metadata": {},
   "outputs": [],
   "source": [
    "def func(w, b, x):\n",
    "    return w*x + b"
   ]
  },
  {
   "cell_type": "code",
   "execution_count": 154,
   "metadata": {},
   "outputs": [],
   "source": [
    "x_t = list(range(0, 300, 5))\n",
    "y_t = [func(reg.coef_[0], reg.intercept_, x) for x in x_t]\n",
    "y_tt = reg.predict(x.reshape(-1, 1))"
   ]
  },
  {
   "cell_type": "code",
   "execution_count": 155,
   "metadata": {},
   "outputs": [
    {
     "data": {
      "image/png": "[encoded data removed]",
      "text/plain": [
       "<Figure size 432x288 with 1 Axes>"
      ]
     },
     "metadata": {},
     "output_type": "display_data"
    }
   ],
   "source": [
    "plt.plot(x, y, 'g.')\n",
    "plt.plot(x_t, y_t, 'b', linewidth=2.0)\n",
    "plt.show()"
   ]
  },
  {
   "cell_type": "markdown",
   "metadata": {},
   "source": [
    "### Модель линейной регрессии дала неплохой результат"
   ]
  },
  {
   "cell_type": "markdown",
   "metadata": {},
   "source": [
    "## SVM"
   ]
  },
  {
   "cell_type": "code",
   "execution_count": 156,
   "metadata": {},
   "outputs": [],
   "source": [
    "from sklearn.svm import SVC, NuSVC, LinearSVC, OneClassSVM, SVR, NuSVR, LinearSVR"
   ]
  },
  {
   "cell_type": "code",
   "execution_count": 157,
   "metadata": {},
   "outputs": [
    {
     "data": {
      "text/plain": [
       "[<matplotlib.lines.Line2D at 0x13e5a9b10>]"
      ]
     },
     "execution_count": 157,
     "metadata": {},
     "output_type": "execute_result"
    },
    {
     "data": {
      "image/png": "[encoded data removed]",
      "text/plain": [
       "<Figure size 432x288 with 1 Axes>"
      ]
     },
     "metadata": {},
     "output_type": "display_data"
    }
   ],
   "source": [
    "lin_SVR = LinearSVR(C=1.0, max_iter=10000)\n",
    "lin_SVR.fit(x.reshape(-1, 1), y)\n",
    "predict = lin_SVR.predict(x.reshape(-1, 1))\n",
    "plt.plot(x, y, 'g.')\n",
    "plt.plot(x, predict, 'ro')"
   ]
  },
  {
   "cell_type": "markdown",
   "metadata": {},
   "source": [
    "## Деревья решений"
   ]
  },
  {
   "cell_type": "code",
   "execution_count": 158,
   "metadata": {
    "scrolled": true
   },
   "outputs": [
    {
     "data": {
      "text/plain": [
       "DecisionTreeRegressor(ccp_alpha=0.0, criterion='mse', max_depth=5,\n",
       "                      max_features=None, max_leaf_nodes=None,\n",
       "                      min_impurity_decrease=0.0, min_impurity_split=None,\n",
       "                      min_samples_leaf=1, min_samples_split=2,\n",
       "                      min_weight_fraction_leaf=0.0, presort='deprecated',\n",
       "                      random_state=1, splitter='best')"
      ]
     },
     "execution_count": 158,
     "metadata": {},
     "output_type": "execute_result"
    }
   ],
   "source": [
    "dec_tree = DecisionTreeRegressor(random_state=1, max_depth=5)\n",
    "dec_tree.fit(data, data[\"Sales\"])\n",
    "dec_tree\n"
   ]
  },
  {
   "cell_type": "code",
   "execution_count": 159,
   "metadata": {},
   "outputs": [],
   "source": [
    "dec_predict = dec_tree.predict(data)"
   ]
  },
  {
   "cell_type": "code",
   "execution_count": 160,
   "metadata": {
    "scrolled": false
   },
   "outputs": [
    {
     "data": {
      "text/plain": [
       "[Text(167.4, 199.32, 'X[3] <= 15.1\\nmse = 27.086\\nsamples = 200\\nvalue = 14.023'),\n",
       " Text(83.7, 163.07999999999998, 'X[3] <= 10.0\\nmse = 7.31\\nsamples = 125\\nvalue = 10.67'),\n",
       " Text(41.85, 126.83999999999999, 'X[3] <= 7.45\\nmse = 3.527\\nsamples = 45\\nvalue = 7.767'),\n",
       " Text(20.925, 90.6, 'X[0] <= 4.75\\nmse = 2.173\\nsamples = 18\\nvalue = 5.872'),\n",
       " Text(10.4625, 54.359999999999985, 'X[3] <= 2.4\\nmse = 0.64\\nsamples = 2\\nvalue = 2.4'),\n",
       " Text(5.23125, 18.119999999999976, 'mse = 0.0\\nsamples = 1\\nvalue = 1.6'),\n",
       " Text(15.693750000000001, 18.119999999999976, 'mse = -0.0\\nsamples = 1\\nvalue = 3.2'),\n",
       " Text(31.387500000000003, 54.359999999999985, 'X[3] <= 6.25\\nmse = 0.669\\nsamples = 16\\nvalue = 6.306'),\n",
       " Text(26.15625, 18.119999999999976, 'mse = 0.108\\nsamples = 7\\nvalue = 5.443'),\n",
       " Text(36.61875, 18.119999999999976, 'mse = 0.075\\nsamples = 9\\nvalue = 6.978'),\n",
       " Text(62.775000000000006, 90.6, 'X[3] <= 9.0\\nmse = 0.442\\nsamples = 27\\nvalue = 9.03'),\n",
       " Text(52.3125, 54.359999999999985, 'X[3] <= 8.25\\nmse = 0.18\\nsamples = 12\\nvalue = 8.375'),\n",
       " Text(47.081250000000004, 18.119999999999976, 'mse = 0.052\\nsamples = 4\\nvalue = 7.825'),\n",
       " Text(57.54375, 18.119999999999976, 'mse = 0.017\\nsamples = 8\\nvalue = 8.65'),\n",
       " Text(73.2375, 54.359999999999985, 'X[3] <= 9.55\\nmse = 0.034\\nsamples = 15\\nvalue = 9.553'),\n",
       " Text(68.00625000000001, 18.119999999999976, 'mse = 0.013\\nsamples = 7\\nvalue = 9.386'),\n",
       " Text(78.46875, 18.119999999999976, 'mse = 0.008\\nsamples = 8\\nvalue = 9.7'),\n",
       " Text(125.55000000000001, 126.83999999999999, 'X[3] <= 12.55\\nmse = 2.031\\nsamples = 80\\nvalue = 12.302'),\n",
       " Text(104.625, 90.6, 'X[3] <= 11.1\\nmse = 0.487\\nsamples = 48\\nvalue = 11.317'),\n",
       " Text(94.16250000000001, 54.359999999999985, 'X[3] <= 10.55\\nmse = 0.083\\nsamples = 19\\nvalue = 10.558'),\n",
       " Text(88.93125, 18.119999999999976, 'mse = 0.024\\nsamples = 9\\nvalue = 10.3'),\n",
       " Text(99.39375, 18.119999999999976, 'mse = 0.023\\nsamples = 10\\nvalue = 10.79'),\n",
       " Text(115.0875, 54.359999999999985, 'X[3] <= 11.85\\nmse = 0.127\\nsamples = 29\\nvalue = 11.814'),\n",
       " Text(109.85625, 18.119999999999976, 'mse = 0.034\\nsamples = 17\\nvalue = 11.565'),\n",
       " Text(120.31875000000001, 18.119999999999976, 'mse = 0.047\\nsamples = 12\\nvalue = 12.167'),\n",
       " Text(146.475, 90.6, 'X[3] <= 13.8\\nmse = 0.703\\nsamples = 32\\nvalue = 13.781'),\n",
       " Text(136.01250000000002, 54.359999999999985, 'X[3] <= 13.05\\nmse = 0.091\\nsamples = 17\\nvalue = 13.047'),\n",
       " Text(130.78125, 18.119999999999976, 'mse = 0.014\\nsamples = 9\\nvalue = 12.789'),\n",
       " Text(141.24375, 18.119999999999976, 'mse = 0.017\\nsamples = 8\\nvalue = 13.338'),\n",
       " Text(156.9375, 54.359999999999985, 'X[3] <= 14.45\\nmse = 0.094\\nsamples = 15\\nvalue = 14.613'),\n",
       " Text(151.70625, 18.119999999999976, 'mse = 0.022\\nsamples = 4\\nvalue = 14.175'),\n",
       " Text(162.16875000000002, 18.119999999999976, 'mse = 0.026\\nsamples = 11\\nvalue = 14.773'),\n",
       " Text(251.10000000000002, 163.07999999999998, 'X[3] <= 20.45\\nmse = 10.081\\nsamples = 75\\nvalue = 19.611'),\n",
       " Text(209.25, 126.83999999999999, 'X[3] <= 17.8\\nmse = 2.413\\nsamples = 47\\nvalue = 17.519'),\n",
       " Text(188.32500000000002, 90.6, 'X[3] <= 16.35\\nmse = 0.603\\nsamples = 27\\nvalue = 16.348'),\n",
       " Text(177.8625, 54.359999999999985, 'X[3] <= 15.65\\nmse = 0.084\\nsamples = 14\\nvalue = 15.657'),\n",
       " Text(172.63125, 18.119999999999976, 'mse = 0.023\\nsamples = 7\\nvalue = 15.4'),\n",
       " Text(183.09375, 18.119999999999976, 'mse = 0.013\\nsamples = 7\\nvalue = 15.914'),\n",
       " Text(198.7875, 54.359999999999985, 'X[3] <= 17.05\\nmse = 0.095\\nsamples = 13\\nvalue = 17.092'),\n",
       " Text(193.55625, 18.119999999999976, 'mse = 0.026\\nsamples = 5\\nvalue = 16.76'),\n",
       " Text(204.01875, 18.119999999999976, 'mse = 0.025\\nsamples = 8\\nvalue = 17.3'),\n",
       " Text(230.175, 90.6, 'X[3] <= 19.1\\nmse = 0.505\\nsamples = 20\\nvalue = 19.1'),\n",
       " Text(219.7125, 54.359999999999985, 'X[3] <= 18.7\\nmse = 0.162\\nsamples = 10\\nvalue = 18.5'),\n",
       " Text(214.48125000000002, 18.119999999999976, 'mse = 0.043\\nsamples = 6\\nvalue = 18.2'),\n",
       " Text(224.94375, 18.119999999999976, 'mse = 0.002\\nsamples = 4\\nvalue = 18.95'),\n",
       " Text(240.63750000000002, 54.359999999999985, 'X[3] <= 19.75\\nmse = 0.128\\nsamples = 10\\nvalue = 19.7'),\n",
       " Text(235.40625, 18.119999999999976, 'mse = 0.039\\nsamples = 6\\nvalue = 19.45'),\n",
       " Text(245.86875, 18.119999999999976, 'mse = 0.027\\nsamples = 4\\nvalue = 20.075'),\n",
       " Text(292.95, 126.83999999999999, 'X[3] <= 23.45\\nmse = 3.285\\nsamples = 28\\nvalue = 23.121'),\n",
       " Text(272.02500000000003, 90.6, 'X[3] <= 21.75\\nmse = 0.581\\nsamples = 16\\nvalue = 21.744'),\n",
       " Text(261.5625, 54.359999999999985, 'X[3] <= 21.0\\nmse = 0.149\\nsamples = 8\\nvalue = 21.088'),\n",
       " Text(256.33125, 18.119999999999976, 'mse = 0.002\\nsamples = 4\\nvalue = 20.725'),\n",
       " Text(266.79375, 18.119999999999976, 'mse = 0.032\\nsamples = 4\\nvalue = 21.45'),\n",
       " Text(282.4875, 54.359999999999985, 'X[3] <= 22.5\\nmse = 0.153\\nsamples = 8\\nvalue = 22.4'),\n",
       " Text(277.25625, 18.119999999999976, 'mse = 0.042\\nsamples = 5\\nvalue = 22.16'),\n",
       " Text(287.71875, 18.119999999999976, 'mse = 0.08\\nsamples = 3\\nvalue = 22.8'),\n",
       " Text(313.875, 90.6, 'X[3] <= 25.05\\nmse = 0.984\\nsamples = 12\\nvalue = 24.958'),\n",
       " Text(303.4125, 54.359999999999985, 'X[3] <= 24.0\\nmse = 0.133\\nsamples = 6\\nvalue = 24.1'),\n",
       " Text(298.18125000000003, 18.119999999999976, 'mse = 0.002\\nsamples = 3\\nvalue = 23.767'),\n",
       " Text(308.64375, 18.119999999999976, 'mse = 0.042\\nsamples = 3\\nvalue = 24.433'),\n",
       " Text(324.33750000000003, 54.359999999999985, 'X[3] <= 25.85\\nmse = 0.361\\nsamples = 6\\nvalue = 25.817'),\n",
       " Text(319.10625, 18.119999999999976, 'mse = 0.002\\nsamples = 4\\nvalue = 25.425'),\n",
       " Text(329.56875, 18.119999999999976, 'mse = 0.16\\nsamples = 2\\nvalue = 26.6')]"
      ]
     },
     "execution_count": 160,
     "metadata": {},
     "output_type": "execute_result"
    },
    {
     "data": {
      "image/png": "[encoded data removed]",
      "text/plain": [
       "<Figure size 432x288 with 1 Axes>"
      ]
     },
     "metadata": {},
     "output_type": "display_data"
    }
   ],
   "source": [
    "from sklearn import tree\n",
    "tree.plot_tree(dec_tree, filled=True)"
   ]
  },
  {
   "cell_type": "markdown",
   "metadata": {},
   "source": [
    "## Метрики качества"
   ]
  },
  {
   "cell_type": "code",
   "execution_count": 161,
   "metadata": {},
   "outputs": [
    {
     "name": "stdout",
     "output_type": "stream",
     "text": [
      "Метрики для линейной модели:\n",
      "\n",
      "Средняя абсолютная ошибка:  2.550919383216356\n",
      "Средняя квадратичная ошибка:  10.512821002854928\n",
      "Коэффициент детерминации:  0.6118688451058344\n",
      "\n",
      "\n",
      "Метрики для SVM-модели:\n",
      "\n",
      "Средняя абсолютная ошибка:  2.5708683334350892\n",
      "Средняя квадратичная ошибка:  10.859652690875892\n",
      "Коэффициент детерминации:  0.5990638916505333\n",
      "\n",
      "\n",
      "Метрики для Decision Tree:\n",
      "\n",
      "Средняя абсолютная ошибка:  0.14353164841694266\n",
      "Средняя квадратичная ошибка:  0.03201810934980053\n",
      "Коэффициент детерминации:  0.9988178980926156\n"
     ]
    }
   ],
   "source": [
    "from sklearn.metrics import mean_absolute_error, mean_squared_error, mean_squared_log_error, median_absolute_error, r2_score \n",
    "\n",
    "print(\"Метрики для линейной модели:\\n\")\n",
    "print(\"Средняя абсолютная ошибка: \", mean_absolute_error(y, y_tt))\n",
    "print(\"Средняя квадратичная ошибка: \", mean_squared_error(y, y_tt))\n",
    "print(\"Коэффициент детерминации: \", r2_score(y, y_tt))\n",
    "\n",
    "print(\"\\n\\nМетрики для SVM-модели:\\n\")\n",
    "print(\"Средняя абсолютная ошибка: \", mean_absolute_error(y, predict))\n",
    "print(\"Средняя квадратичная ошибка: \", mean_squared_error(y, predict))\n",
    "print(\"Коэффициент детерминации: \", r2_score(y, predict))\n",
    "\n",
    "\n",
    "print(\"\\n\\nМетрики для Decision Tree:\\n\")\n",
    "print(\"Средняя абсолютная ошибка: \", mean_absolute_error(y, dec_predict))\n",
    "print(\"Средняя квадратичная ошибка: \", mean_squared_error(y, dec_predict))\n",
    "print(\"Коэффициент детерминации: \", r2_score(y, dec_predict))"
   ]
  },
  {
   "cell_type": "markdown",
   "metadata": {},
   "source": [
    "## Подбор гиперпараметров. Кросс-валидация"
   ]
  },
  {
   "cell_type": "code",
   "execution_count": 162,
   "metadata": {},
   "outputs": [],
   "source": [
    "from sklearn.model_selection import cross_validate"
   ]
  },
  {
   "cell_type": "code",
   "execution_count": 111,
   "metadata": {},
   "outputs": [],
   "source": [
    "scoring = {'mean': 'neg_mean_absolute_error', 'square': 'neg_mean_squared_error', 'r2': 'r2'}"
   ]
  },
  {
   "cell_type": "code",
   "execution_count": 163,
   "metadata": {},
   "outputs": [
    {
     "data": {
      "text/plain": [
       "{'fit_time': array([0.00085902, 0.00085711, 0.00055289]),\n",
       " 'score_time': array([0.00140524, 0.00080299, 0.00078702]),\n",
       " 'test_mean': array([-2.51215213, -2.46200408, -2.76711466]),\n",
       " 'test_square': array([-10.83437466,  -9.33658309, -11.90833409]),\n",
       " 'test_r2': array([0.61497417, 0.65311667, 0.53715304])}"
      ]
     },
     "execution_count": 163,
     "metadata": {},
     "output_type": "execute_result"
    }
   ],
   "source": [
    "scores_regr = cross_validate(BayesianRidge(fit_intercept=True), \n",
    "                         x.reshape(-1, 1), y, cv=3, scoring=scoring)\n",
    "scores_regr"
   ]
  },
  {
   "cell_type": "code",
   "execution_count": 164,
   "metadata": {},
   "outputs": [
    {
     "data": {
      "text/plain": [
       "{'fit_time': array([0.03139281, 0.02713585, 0.02338099]),\n",
       " 'score_time': array([0.00076604, 0.00061393, 0.00054908]),\n",
       " 'test_mean': array([-2.54098772, -2.37148251, -3.1291242 ]),\n",
       " 'test_square': array([-11.0231287 ,  -9.81978964, -15.84997398]),\n",
       " 'test_r2': array([0.60826634, 0.63516403, 0.38395142])}"
      ]
     },
     "execution_count": 164,
     "metadata": {},
     "output_type": "execute_result"
    }
   ],
   "source": [
    "scores_svm = cross_validate(LinearSVR(C=1.0, max_iter=10000), \n",
    "                         x.reshape(-1, 1), y, cv=3, scoring=scoring)\n",
    "scores_svm"
   ]
  },
  {
   "cell_type": "code",
   "execution_count": 165,
   "metadata": {},
   "outputs": [
    {
     "data": {
      "text/plain": [
       "{'fit_time': array([0.00271297, 0.0020709 , 0.00206208, 0.00199294, 0.00195193]),\n",
       " 'score_time': array([0.0018599 , 0.00148034, 0.00148678, 0.00142694, 0.0014143 ]),\n",
       " 'test_mean': array([-0.72293478, -0.7307461 , -0.66116873, -0.85487267, -0.91550049]),\n",
       " 'test_square': array([-0.64975012, -0.70991464, -0.63349151, -1.4104023 , -1.08449788]),\n",
       " 'test_r2': array([0.97486214, 0.97589358, 0.97175881, 0.95176776, 0.95938815])}"
      ]
     },
     "execution_count": 165,
     "metadata": {},
     "output_type": "execute_result"
    }
   ],
   "source": [
    "scores_dec = cross_validate(DecisionTreeRegressor(random_state=1, max_depth=3), \n",
    "                         data, data[\"Sales\"], cv=5, scoring=scoring)\n",
    "scores_dec"
   ]
  },
  {
   "cell_type": "code",
   "execution_count": 166,
   "metadata": {},
   "outputs": [
    {
     "name": "stdout",
     "output_type": "stream",
     "text": [
      "Метрики для линейной модели:\n",
      "\n",
      "Средняя абсолютная ошибка:  -2.580423621885709\n",
      "Средняя квадратичная ошибка:  -10.693097277894969\n",
      "Коэффициент детерминации:  0.601747959666948\n",
      "\n",
      "\n",
      "Метрики для SVM-модели:\n",
      "\n",
      "Средняя абсолютная ошибка:  -2.6805314771806956\n",
      "Средняя квадратичная ошибка:  -12.23096410841425\n",
      "Коэффициент детерминации:  0.5424605962417798\n",
      "\n",
      "\n",
      "Метрики для Decision Tree:\n",
      "\n",
      "Средняя абсолютная ошибка:  -0.7770445553321956\n",
      "Средняя квадратичная ошибка:  -0.8976112886827845\n",
      "Коэффициент детерминации:  0.9667340888852873\n"
     ]
    }
   ],
   "source": [
    "print(\"Метрики для линейной модели:\\n\")\n",
    "print(\"Средняя абсолютная ошибка: \", np.mean(scores_regr['test_mean']))\n",
    "print(\"Средняя квадратичная ошибка: \", np.mean(scores_regr['test_square']))\n",
    "print(\"Коэффициент детерминации: \", np.mean(scores_regr['test_r2']))\n",
    "\n",
    "print(\"\\n\\nМетрики для SVM-модели:\\n\")\n",
    "print(\"Средняя абсолютная ошибка: \", np.mean(scores_svm['test_mean']))\n",
    "print(\"Средняя квадратичная ошибка: \", np.mean(scores_svm['test_square']))\n",
    "print(\"Коэффициент детерминации: \", np.mean(scores_svm['test_r2']))\n",
    "\n",
    "\n",
    "print(\"\\n\\nМетрики для Decision Tree:\\n\")\n",
    "print(\"Средняя абсолютная ошибка: \", np.mean(scores_dec['test_mean']))\n",
    "print(\"Средняя квадратичная ошибка: \", np.mean(scores_dec['test_square']))\n",
    "print(\"Коэффициент детерминации: \", np.mean(scores_dec['test_r2']))"
   ]
  },
  {
   "cell_type": "markdown",
   "metadata": {},
   "source": [
    "## Оптимизация с помощью решетчатого поиска"
   ]
  },
  {
   "cell_type": "code",
   "execution_count": 167,
   "metadata": {},
   "outputs": [],
   "source": [
    "from sklearn.model_selection import GridSearchCV"
   ]
  },
  {
   "cell_type": "code",
   "execution_count": 168,
   "metadata": {},
   "outputs": [
    {
     "data": {
      "text/plain": [
       "[{'max_depth': array([1, 2, 3, 4, 5, 6, 7, 8, 9])}]"
      ]
     },
     "execution_count": 168,
     "metadata": {},
     "output_type": "execute_result"
    }
   ],
   "source": [
    "n_range = np.array(range(1,10,1))\n",
    "tuned_parameters = [{'max_depth': n_range}]\n",
    "tuned_parameters"
   ]
  },
  {
   "cell_type": "code",
   "execution_count": 169,
   "metadata": {},
   "outputs": [
    {
     "name": "stdout",
     "output_type": "stream",
     "text": [
      "CPU times: user 48.9 ms, sys: 1.26 ms, total: 50.2 ms\n",
      "Wall time: 49.2 ms\n"
     ]
    },
    {
     "data": {
      "text/plain": [
       "GridSearchCV(cv=5, error_score=nan,\n",
       "             estimator=DecisionTreeRegressor(ccp_alpha=0.0, criterion='mse',\n",
       "                                             max_depth=None, max_features=None,\n",
       "                                             max_leaf_nodes=None,\n",
       "                                             min_impurity_decrease=0.0,\n",
       "                                             min_impurity_split=None,\n",
       "                                             min_samples_leaf=1,\n",
       "                                             min_samples_split=2,\n",
       "                                             min_weight_fraction_leaf=0.0,\n",
       "                                             presort='deprecated',\n",
       "                                             random_state=None,\n",
       "                                             splitter='best'),\n",
       "             iid='deprecated', n_jobs=None,\n",
       "             param_grid=[{'max_depth': array([1, 2, 3, 4, 5, 6, 7, 8, 9])}],\n",
       "             pre_dispatch='2*n_jobs', refit=True, return_train_score=False,\n",
       "             scoring='r2', verbose=0)"
      ]
     },
     "execution_count": 169,
     "metadata": {},
     "output_type": "execute_result"
    }
   ],
   "source": [
    "%%time\n",
    "clf_gs = GridSearchCV(DecisionTreeRegressor(), tuned_parameters, cv=5, scoring='r2')\n",
    "clf_gs.fit(x.reshape(-1, 1), y)"
   ]
  },
  {
   "cell_type": "code",
   "execution_count": 170,
   "metadata": {},
   "outputs": [
    {
     "data": {
      "text/plain": [
       "DecisionTreeRegressor(ccp_alpha=0.0, criterion='mse', max_depth=3,\n",
       "                      max_features=None, max_leaf_nodes=None,\n",
       "                      min_impurity_decrease=0.0, min_impurity_split=None,\n",
       "                      min_samples_leaf=1, min_samples_split=2,\n",
       "                      min_weight_fraction_leaf=0.0, presort='deprecated',\n",
       "                      random_state=None, splitter='best')"
      ]
     },
     "execution_count": 170,
     "metadata": {},
     "output_type": "execute_result"
    }
   ],
   "source": [
    "# Лучшая модель\n",
    "clf_gs.best_estimator_"
   ]
  },
  {
   "cell_type": "code",
   "execution_count": 171,
   "metadata": {},
   "outputs": [
    {
     "data": {
      "text/plain": [
       "0.5464056968965096"
      ]
     },
     "execution_count": 171,
     "metadata": {},
     "output_type": "execute_result"
    }
   ],
   "source": [
    "clf_gs.best_score_"
   ]
  },
  {
   "cell_type": "code",
   "execution_count": 172,
   "metadata": {},
   "outputs": [
    {
     "data": {
      "text/plain": [
       "{'max_depth': 3}"
      ]
     },
     "execution_count": 172,
     "metadata": {},
     "output_type": "execute_result"
    }
   ],
   "source": [
    "clf_gs.best_params_"
   ]
  },
  {
   "cell_type": "code",
   "execution_count": 173,
   "metadata": {},
   "outputs": [
    {
     "data": {
      "text/plain": [
       "[<matplotlib.lines.Line2D at 0x1365b10d0>]"
      ]
     },
     "execution_count": 173,
     "metadata": {},
     "output_type": "execute_result"
    },
    {
     "data": {
      "image/png": "[encoded data removed]",
      "text/plain": [
       "<Figure size 432x288 with 1 Axes>"
      ]
     },
     "metadata": {},
     "output_type": "display_data"
    }
   ],
   "source": [
    "plt.plot(n_range, clf_gs.cv_results_['mean_test_score'])"
   ]
  },
  {
   "cell_type": "markdown",
   "metadata": {},
   "source": [
    "### Оптимизация SVM"
   ]
  },
  {
   "cell_type": "code",
   "execution_count": 174,
   "metadata": {},
   "outputs": [],
   "source": [
    "param_grid = {'C': [0.1,1, 10, 100], 'epsilon': [0.1, 0.2, 0.3, 0.4, 0.5, 0.6, 0.7, 0.8, 0.9, 1.0]}"
   ]
  },
  {
   "cell_type": "code",
   "execution_count": 175,
   "metadata": {},
   "outputs": [
    {
     "name": "stdout",
     "output_type": "stream",
     "text": [
      "Fitting 5 folds for each of 40 candidates, totalling 200 fits\n",
      "[CV] C=0.1, epsilon=0.1 ..............................................\n",
      "[CV] ............................... C=0.1, epsilon=0.1, total=   0.0s\n",
      "[CV] C=0.1, epsilon=0.1 ..............................................\n",
      "[CV] ............................... C=0.1, epsilon=0.1, total=   0.0s\n",
      "[CV] C=0.1, epsilon=0.1 ..............................................\n",
      "[CV] ............................... C=0.1, epsilon=0.1, total=   0.0s\n",
      "[CV] C=0.1, epsilon=0.1 ..............................................\n",
      "[CV] ............................... C=0.1, epsilon=0.1, total=   0.0s\n",
      "[CV] C=0.1, epsilon=0.1 ..............................................\n",
      "[CV] ............................... C=0.1, epsilon=0.1, total=   0.0s\n",
      "[CV] C=0.1, epsilon=0.2 ..............................................\n",
      "[CV] ............................... C=0.1, epsilon=0.2, total=   0.0s\n",
      "[CV] C=0.1, epsilon=0.2 ..............................................\n",
      "[CV] ............................... C=0.1, epsilon=0.2, total=   0.0s\n",
      "[CV] C=0.1, epsilon=0.2 ..............................................\n",
      "[CV] ............................... C=0.1, epsilon=0.2, total=   0.0s\n",
      "[CV] C=0.1, epsilon=0.2 ..............................................\n",
      "[CV] ............................... C=0.1, epsilon=0.2, total=   0.0s\n",
      "[CV] C=0.1, epsilon=0.2 ..............................................\n",
      "[CV] ............................... C=0.1, epsilon=0.2, total=   0.0s\n",
      "[CV] C=0.1, epsilon=0.3 ..............................................\n",
      "[CV] ............................... C=0.1, epsilon=0.3, total=   0.0s\n",
      "[CV] C=0.1, epsilon=0.3 ..............................................\n",
      "[CV] ............................... C=0.1, epsilon=0.3, total=   0.0s\n",
      "[CV] C=0.1, epsilon=0.3 ..............................................\n",
      "[CV] ............................... C=0.1, epsilon=0.3, total=   0.0s\n",
      "[CV] C=0.1, epsilon=0.3 ..............................................\n",
      "[CV] ............................... C=0.1, epsilon=0.3, total=   0.0s\n",
      "[CV] C=0.1, epsilon=0.3 ..............................................\n",
      "[CV] ............................... C=0.1, epsilon=0.3, total=   0.0s\n",
      "[CV] C=0.1, epsilon=0.4 ..............................................\n",
      "[CV] ............................... C=0.1, epsilon=0.4, total=   0.0s\n",
      "[CV] C=0.1, epsilon=0.4 ..............................................\n",
      "[CV] ............................... C=0.1, epsilon=0.4, total=   0.0s\n",
      "[CV] C=0.1, epsilon=0.4 ..............................................\n",
      "[CV] ............................... C=0.1, epsilon=0.4, total=   0.0s\n",
      "[CV] C=0.1, epsilon=0.4 ..............................................\n",
      "[CV] ............................... C=0.1, epsilon=0.4, total=   0.0s\n",
      "[CV] C=0.1, epsilon=0.4 ..............................................\n",
      "[CV] ............................... C=0.1, epsilon=0.4, total=   0.0s\n",
      "[CV] C=0.1, epsilon=0.5 ..............................................\n",
      "[CV] ............................... C=0.1, epsilon=0.5, total=   0.0s\n",
      "[CV] C=0.1, epsilon=0.5 ..............................................\n",
      "[CV] ............................... C=0.1, epsilon=0.5, total=   0.0s\n",
      "[CV] C=0.1, epsilon=0.5 ..............................................\n",
      "[CV] ............................... C=0.1, epsilon=0.5, total=   0.0s\n",
      "[CV] C=0.1, epsilon=0.5 ..............................................\n",
      "[CV] ............................... C=0.1, epsilon=0.5, total=   0.0s\n",
      "[CV] C=0.1, epsilon=0.5 ..............................................\n",
      "[CV] ............................... C=0.1, epsilon=0.5, total=   0.0s\n",
      "[CV] C=0.1, epsilon=0.6 ..............................................\n",
      "[CV] ............................... C=0.1, epsilon=0.6, total=   0.0s\n",
      "[CV] C=0.1, epsilon=0.6 ..............................................\n",
      "[CV] ............................... C=0.1, epsilon=0.6, total=   0.0s\n",
      "[CV] C=0.1, epsilon=0.6 ..............................................\n",
      "[CV] ............................... C=0.1, epsilon=0.6, total=   0.0s\n",
      "[CV] C=0.1, epsilon=0.6 ..............................................\n",
      "[CV] ............................... C=0.1, epsilon=0.6, total=   0.0s\n",
      "[CV] C=0.1, epsilon=0.6 ..............................................\n",
      "[CV] ............................... C=0.1, epsilon=0.6, total=   0.0s\n",
      "[CV] C=0.1, epsilon=0.7 ..............................................\n",
      "[CV] ............................... C=0.1, epsilon=0.7, total=   0.0s\n",
      "[CV] C=0.1, epsilon=0.7 ..............................................\n",
      "[CV] ............................... C=0.1, epsilon=0.7, total=   0.0s\n",
      "[CV] C=0.1, epsilon=0.7 ..............................................\n",
      "[CV] ............................... C=0.1, epsilon=0.7, total=   0.0s\n",
      "[CV] C=0.1, epsilon=0.7 ..............................................\n",
      "[CV] ............................... C=0.1, epsilon=0.7, total=   0.0s\n",
      "[CV] C=0.1, epsilon=0.7 ..............................................\n",
      "[CV] ............................... C=0.1, epsilon=0.7, total=   0.0s\n",
      "[CV] C=0.1, epsilon=0.8 ..............................................\n",
      "[CV] ............................... C=0.1, epsilon=0.8, total=   0.0s\n",
      "[CV] C=0.1, epsilon=0.8 ..............................................\n",
      "[CV] ............................... C=0.1, epsilon=0.8, total=   0.0s\n",
      "[CV] C=0.1, epsilon=0.8 ..............................................\n",
      "[CV] ............................... C=0.1, epsilon=0.8, total=   0.0s\n",
      "[CV] C=0.1, epsilon=0.8 ..............................................\n",
      "[CV] ............................... C=0.1, epsilon=0.8, total=   0.0s\n",
      "[CV] C=0.1, epsilon=0.8 ..............................................\n",
      "[CV] ............................... C=0.1, epsilon=0.8, total=   0.0s\n",
      "[CV] C=0.1, epsilon=0.9 ..............................................\n",
      "[CV] ............................... C=0.1, epsilon=0.9, total=   0.0s\n",
      "[CV] C=0.1, epsilon=0.9 ..............................................\n",
      "[CV] ............................... C=0.1, epsilon=0.9, total=   0.0s\n",
      "[CV] C=0.1, epsilon=0.9 ..............................................\n",
      "[CV] ............................... C=0.1, epsilon=0.9, total=   0.0s\n",
      "[CV] C=0.1, epsilon=0.9 ..............................................\n",
      "[CV] ............................... C=0.1, epsilon=0.9, total=   0.0s\n",
      "[CV] C=0.1, epsilon=0.9 ..............................................\n",
      "[CV] ............................... C=0.1, epsilon=0.9, total=   0.0s\n",
      "[CV] C=0.1, epsilon=1.0 ..............................................\n",
      "[CV] ............................... C=0.1, epsilon=1.0, total=   0.0s\n",
      "[CV] C=0.1, epsilon=1.0 ..............................................\n",
      "[CV] ............................... C=0.1, epsilon=1.0, total=   0.0s\n",
      "[CV] C=0.1, epsilon=1.0 ..............................................\n",
      "[CV] ............................... C=0.1, epsilon=1.0, total=   0.0s\n",
      "[CV] C=0.1, epsilon=1.0 ..............................................\n",
      "[CV] ............................... C=0.1, epsilon=1.0, total=   0.0s\n",
      "[CV] C=0.1, epsilon=1.0 ..............................................\n",
      "[CV] ............................... C=0.1, epsilon=1.0, total=   0.0s\n",
      "[CV] C=1, epsilon=0.1 ................................................\n",
      "[CV] ................................. C=1, epsilon=0.1, total=   0.0s\n",
      "[CV] C=1, epsilon=0.1 ................................................\n"
     ]
    },
    {
     "name": "stderr",
     "output_type": "stream",
     "text": [
      "[Parallel(n_jobs=1)]: Using backend SequentialBackend with 1 concurrent workers.\n",
      "[Parallel(n_jobs=1)]: Done   1 out of   1 | elapsed:    0.0s remaining:    0.0s\n"
     ]
    },
    {
     "name": "stdout",
     "output_type": "stream",
     "text": [
      "[CV] ................................. C=1, epsilon=0.1, total=   0.0s\n",
      "[CV] C=1, epsilon=0.1 ................................................\n",
      "[CV] ................................. C=1, epsilon=0.1, total=   0.0s\n",
      "[CV] C=1, epsilon=0.1 ................................................\n",
      "[CV] ................................. C=1, epsilon=0.1, total=   0.0s\n",
      "[CV] C=1, epsilon=0.1 ................................................\n",
      "[CV] ................................. C=1, epsilon=0.1, total=   0.0s\n",
      "[CV] C=1, epsilon=0.2 ................................................\n",
      "[CV] ................................. C=1, epsilon=0.2, total=   0.0s\n",
      "[CV] C=1, epsilon=0.2 ................................................\n",
      "[CV] ................................. C=1, epsilon=0.2, total=   0.0s\n",
      "[CV] C=1, epsilon=0.2 ................................................\n",
      "[CV] ................................. C=1, epsilon=0.2, total=   0.0s\n",
      "[CV] C=1, epsilon=0.2 ................................................\n",
      "[CV] ................................. C=1, epsilon=0.2, total=   0.0s\n",
      "[CV] C=1, epsilon=0.2 ................................................\n",
      "[CV] ................................. C=1, epsilon=0.2, total=   0.0s\n",
      "[CV] C=1, epsilon=0.3 ................................................\n",
      "[CV] ................................. C=1, epsilon=0.3, total=   0.0s\n",
      "[CV] C=1, epsilon=0.3 ................................................\n",
      "[CV] ................................. C=1, epsilon=0.3, total=   0.0s\n",
      "[CV] C=1, epsilon=0.3 ................................................\n",
      "[CV] ................................. C=1, epsilon=0.3, total=   0.0s\n",
      "[CV] C=1, epsilon=0.3 ................................................\n",
      "[CV] ................................. C=1, epsilon=0.3, total=   0.0s\n",
      "[CV] C=1, epsilon=0.3 ................................................\n",
      "[CV] ................................. C=1, epsilon=0.3, total=   0.0s\n",
      "[CV] C=1, epsilon=0.4 ................................................\n",
      "[CV] ................................. C=1, epsilon=0.4, total=   0.0s\n",
      "[CV] C=1, epsilon=0.4 ................................................\n",
      "[CV] ................................. C=1, epsilon=0.4, total=   0.0s\n",
      "[CV] C=1, epsilon=0.4 ................................................\n",
      "[CV] ................................. C=1, epsilon=0.4, total=   0.0s\n",
      "[CV] C=1, epsilon=0.4 ................................................\n",
      "[CV] ................................. C=1, epsilon=0.4, total=   0.0s\n",
      "[CV] C=1, epsilon=0.4 ................................................\n",
      "[CV] ................................. C=1, epsilon=0.4, total=   0.0s\n",
      "[CV] C=1, epsilon=0.5 ................................................\n",
      "[CV] ................................. C=1, epsilon=0.5, total=   0.0s\n",
      "[CV] C=1, epsilon=0.5 ................................................\n",
      "[CV] ................................. C=1, epsilon=0.5, total=   0.0s\n",
      "[CV] C=1, epsilon=0.5 ................................................\n",
      "[CV] ................................. C=1, epsilon=0.5, total=   0.0s\n",
      "[CV] C=1, epsilon=0.5 ................................................\n",
      "[CV] ................................. C=1, epsilon=0.5, total=   0.0s\n",
      "[CV] C=1, epsilon=0.5 ................................................\n",
      "[CV] ................................. C=1, epsilon=0.5, total=   0.0s\n",
      "[CV] C=1, epsilon=0.6 ................................................\n",
      "[CV] ................................. C=1, epsilon=0.6, total=   0.0s\n",
      "[CV] C=1, epsilon=0.6 ................................................\n",
      "[CV] ................................. C=1, epsilon=0.6, total=   0.0s\n",
      "[CV] C=1, epsilon=0.6 ................................................\n",
      "[CV] ................................. C=1, epsilon=0.6, total=   0.0s\n",
      "[CV] C=1, epsilon=0.6 ................................................\n",
      "[CV] ................................. C=1, epsilon=0.6, total=   0.0s\n",
      "[CV] C=1, epsilon=0.6 ................................................\n",
      "[CV] ................................. C=1, epsilon=0.6, total=   0.0s\n",
      "[CV] C=1, epsilon=0.7 ................................................\n",
      "[CV] ................................. C=1, epsilon=0.7, total=   0.0s\n",
      "[CV] C=1, epsilon=0.7 ................................................\n",
      "[CV] ................................. C=1, epsilon=0.7, total=   0.0s\n",
      "[CV] C=1, epsilon=0.7 ................................................\n",
      "[CV] ................................. C=1, epsilon=0.7, total=   0.0s\n",
      "[CV] C=1, epsilon=0.7 ................................................\n",
      "[CV] ................................. C=1, epsilon=0.7, total=   0.0s\n",
      "[CV] C=1, epsilon=0.7 ................................................\n",
      "[CV] ................................. C=1, epsilon=0.7, total=   0.0s\n",
      "[CV] C=1, epsilon=0.8 ................................................\n",
      "[CV] ................................. C=1, epsilon=0.8, total=   0.0s\n",
      "[CV] C=1, epsilon=0.8 ................................................\n",
      "[CV] ................................. C=1, epsilon=0.8, total=   0.0s\n",
      "[CV] C=1, epsilon=0.8 ................................................\n",
      "[CV] ................................. C=1, epsilon=0.8, total=   0.0s\n",
      "[CV] C=1, epsilon=0.8 ................................................\n",
      "[CV] ................................. C=1, epsilon=0.8, total=   0.0s\n",
      "[CV] C=1, epsilon=0.8 ................................................\n",
      "[CV] ................................. C=1, epsilon=0.8, total=   0.0s\n",
      "[CV] C=1, epsilon=0.9 ................................................\n",
      "[CV] ................................. C=1, epsilon=0.9, total=   0.0s\n",
      "[CV] C=1, epsilon=0.9 ................................................\n",
      "[CV] ................................. C=1, epsilon=0.9, total=   0.0s\n",
      "[CV] C=1, epsilon=0.9 ................................................\n",
      "[CV] ................................. C=1, epsilon=0.9, total=   0.0s\n",
      "[CV] C=1, epsilon=0.9 ................................................\n",
      "[CV] ................................. C=1, epsilon=0.9, total=   0.0s\n",
      "[CV] C=1, epsilon=0.9 ................................................\n",
      "[CV] ................................. C=1, epsilon=0.9, total=   0.0s\n",
      "[CV] C=1, epsilon=1.0 ................................................\n",
      "[CV] ................................. C=1, epsilon=1.0, total=   0.0s\n",
      "[CV] C=1, epsilon=1.0 ................................................\n",
      "[CV] ................................. C=1, epsilon=1.0, total=   0.0s\n",
      "[CV] C=1, epsilon=1.0 ................................................\n",
      "[CV] ................................. C=1, epsilon=1.0, total=   0.0s\n",
      "[CV] C=1, epsilon=1.0 ................................................\n",
      "[CV] ................................. C=1, epsilon=1.0, total=   0.0s\n",
      "[CV] C=1, epsilon=1.0 ................................................\n",
      "[CV] ................................. C=1, epsilon=1.0, total=   0.0s\n",
      "[CV] C=10, epsilon=0.1 ...............................................\n",
      "[CV] ................................ C=10, epsilon=0.1, total=   0.0s\n",
      "[CV] C=10, epsilon=0.1 ...............................................\n",
      "[CV] ................................ C=10, epsilon=0.1, total=   0.0s\n",
      "[CV] C=10, epsilon=0.1 ...............................................\n",
      "[CV] ................................ C=10, epsilon=0.1, total=   0.0s\n",
      "[CV] C=10, epsilon=0.1 ...............................................\n",
      "[CV] ................................ C=10, epsilon=0.1, total=   0.0s\n",
      "[CV] C=10, epsilon=0.1 ...............................................\n",
      "[CV] ................................ C=10, epsilon=0.1, total=   0.0s\n",
      "[CV] C=10, epsilon=0.2 ...............................................\n",
      "[CV] ................................ C=10, epsilon=0.2, total=   0.0s\n",
      "[CV] C=10, epsilon=0.2 ...............................................\n",
      "[CV] ................................ C=10, epsilon=0.2, total=   0.0s\n",
      "[CV] C=10, epsilon=0.2 ...............................................\n",
      "[CV] ................................ C=10, epsilon=0.2, total=   0.0s\n",
      "[CV] C=10, epsilon=0.2 ...............................................\n",
      "[CV] ................................ C=10, epsilon=0.2, total=   0.0s\n",
      "[CV] C=10, epsilon=0.2 ...............................................\n",
      "[CV] ................................ C=10, epsilon=0.2, total=   0.0s\n",
      "[CV] C=10, epsilon=0.3 ...............................................\n",
      "[CV] ................................ C=10, epsilon=0.3, total=   0.0s\n",
      "[CV] C=10, epsilon=0.3 ...............................................\n",
      "[CV] ................................ C=10, epsilon=0.3, total=   0.0s\n",
      "[CV] C=10, epsilon=0.3 ...............................................\n",
      "[CV] ................................ C=10, epsilon=0.3, total=   0.0s\n",
      "[CV] C=10, epsilon=0.3 ...............................................\n",
      "[CV] ................................ C=10, epsilon=0.3, total=   0.0s\n",
      "[CV] C=10, epsilon=0.3 ...............................................\n",
      "[CV] ................................ C=10, epsilon=0.3, total=   0.0s\n",
      "[CV] C=10, epsilon=0.4 ...............................................\n",
      "[CV] ................................ C=10, epsilon=0.4, total=   0.0s\n",
      "[CV] C=10, epsilon=0.4 ...............................................\n",
      "[CV] ................................ C=10, epsilon=0.4, total=   0.0s\n",
      "[CV] C=10, epsilon=0.4 ...............................................\n",
      "[CV] ................................ C=10, epsilon=0.4, total=   0.0s\n",
      "[CV] C=10, epsilon=0.4 ...............................................\n",
      "[CV] ................................ C=10, epsilon=0.4, total=   0.0s\n",
      "[CV] C=10, epsilon=0.4 ...............................................\n",
      "[CV] ................................ C=10, epsilon=0.4, total=   0.0s\n",
      "[CV] C=10, epsilon=0.5 ...............................................\n",
      "[CV] ................................ C=10, epsilon=0.5, total=   0.0s\n",
      "[CV] C=10, epsilon=0.5 ...............................................\n",
      "[CV] ................................ C=10, epsilon=0.5, total=   0.0s\n",
      "[CV] C=10, epsilon=0.5 ...............................................\n",
      "[CV] ................................ C=10, epsilon=0.5, total=   0.0s\n",
      "[CV] C=10, epsilon=0.5 ...............................................\n",
      "[CV] ................................ C=10, epsilon=0.5, total=   0.0s\n",
      "[CV] C=10, epsilon=0.5 ...............................................\n",
      "[CV] ................................ C=10, epsilon=0.5, total=   0.0s\n",
      "[CV] C=10, epsilon=0.6 ...............................................\n",
      "[CV] ................................ C=10, epsilon=0.6, total=   0.0s\n",
      "[CV] C=10, epsilon=0.6 ...............................................\n",
      "[CV] ................................ C=10, epsilon=0.6, total=   0.0s\n",
      "[CV] C=10, epsilon=0.6 ...............................................\n",
      "[CV] ................................ C=10, epsilon=0.6, total=   0.0s\n",
      "[CV] C=10, epsilon=0.6 ...............................................\n",
      "[CV] ................................ C=10, epsilon=0.6, total=   0.0s\n",
      "[CV] C=10, epsilon=0.6 ...............................................\n",
      "[CV] ................................ C=10, epsilon=0.6, total=   0.0s\n",
      "[CV] C=10, epsilon=0.7 ...............................................\n",
      "[CV] ................................ C=10, epsilon=0.7, total=   0.0s\n",
      "[CV] C=10, epsilon=0.7 ...............................................\n",
      "[CV] ................................ C=10, epsilon=0.7, total=   0.0s\n",
      "[CV] C=10, epsilon=0.7 ...............................................\n",
      "[CV] ................................ C=10, epsilon=0.7, total=   0.0s\n",
      "[CV] C=10, epsilon=0.7 ...............................................\n",
      "[CV] ................................ C=10, epsilon=0.7, total=   0.0s\n",
      "[CV] C=10, epsilon=0.7 ...............................................\n",
      "[CV] ................................ C=10, epsilon=0.7, total=   0.0s\n",
      "[CV] C=10, epsilon=0.8 ...............................................\n",
      "[CV] ................................ C=10, epsilon=0.8, total=   0.0s\n",
      "[CV] C=10, epsilon=0.8 ...............................................\n",
      "[CV] ................................ C=10, epsilon=0.8, total=   0.0s\n",
      "[CV] C=10, epsilon=0.8 ...............................................\n",
      "[CV] ................................ C=10, epsilon=0.8, total=   0.0s\n",
      "[CV] C=10, epsilon=0.8 ...............................................\n",
      "[CV] ................................ C=10, epsilon=0.8, total=   0.0s\n",
      "[CV] C=10, epsilon=0.8 ...............................................\n",
      "[CV] ................................ C=10, epsilon=0.8, total=   0.0s\n",
      "[CV] C=10, epsilon=0.9 ...............................................\n",
      "[CV] ................................ C=10, epsilon=0.9, total=   0.0s\n",
      "[CV] C=10, epsilon=0.9 ...............................................\n",
      "[CV] ................................ C=10, epsilon=0.9, total=   0.0s\n",
      "[CV] C=10, epsilon=0.9 ...............................................\n",
      "[CV] ................................ C=10, epsilon=0.9, total=   0.0s\n",
      "[CV] C=10, epsilon=0.9 ...............................................\n",
      "[CV] ................................ C=10, epsilon=0.9, total=   0.0s\n",
      "[CV] C=10, epsilon=0.9 ...............................................\n",
      "[CV] ................................ C=10, epsilon=0.9, total=   0.0s\n",
      "[CV] C=10, epsilon=1.0 ...............................................\n",
      "[CV] ................................ C=10, epsilon=1.0, total=   0.0s\n",
      "[CV] C=10, epsilon=1.0 ...............................................\n",
      "[CV] ................................ C=10, epsilon=1.0, total=   0.0s\n",
      "[CV] C=10, epsilon=1.0 ...............................................\n",
      "[CV] ................................ C=10, epsilon=1.0, total=   0.0s\n",
      "[CV] C=10, epsilon=1.0 ...............................................\n",
      "[CV] ................................ C=10, epsilon=1.0, total=   0.0s\n",
      "[CV] C=10, epsilon=1.0 ...............................................\n",
      "[CV] ................................ C=10, epsilon=1.0, total=   0.0s\n",
      "[CV] C=100, epsilon=0.1 ..............................................\n",
      "[CV] ............................... C=100, epsilon=0.1, total=   0.0s\n",
      "[CV] C=100, epsilon=0.1 ..............................................\n",
      "[CV] ............................... C=100, epsilon=0.1, total=   0.0s\n",
      "[CV] C=100, epsilon=0.1 ..............................................\n"
     ]
    },
    {
     "name": "stdout",
     "output_type": "stream",
     "text": [
      "[CV] ............................... C=100, epsilon=0.1, total=   0.0s\n",
      "[CV] C=100, epsilon=0.1 ..............................................\n",
      "[CV] ............................... C=100, epsilon=0.1, total=   0.0s\n",
      "[CV] C=100, epsilon=0.1 ..............................................\n",
      "[CV] ............................... C=100, epsilon=0.1, total=   0.0s\n",
      "[CV] C=100, epsilon=0.2 ..............................................\n",
      "[CV] ............................... C=100, epsilon=0.2, total=   0.0s\n",
      "[CV] C=100, epsilon=0.2 ..............................................\n",
      "[CV] ............................... C=100, epsilon=0.2, total=   0.0s\n",
      "[CV] C=100, epsilon=0.2 ..............................................\n",
      "[CV] ............................... C=100, epsilon=0.2, total=   0.0s\n",
      "[CV] C=100, epsilon=0.2 ..............................................\n",
      "[CV] ............................... C=100, epsilon=0.2, total=   0.0s\n",
      "[CV] C=100, epsilon=0.2 ..............................................\n",
      "[CV] ............................... C=100, epsilon=0.2, total=   0.0s\n",
      "[CV] C=100, epsilon=0.3 ..............................................\n",
      "[CV] ............................... C=100, epsilon=0.3, total=   0.0s\n",
      "[CV] C=100, epsilon=0.3 ..............................................\n",
      "[CV] ............................... C=100, epsilon=0.3, total=   0.0s\n",
      "[CV] C=100, epsilon=0.3 ..............................................\n",
      "[CV] ............................... C=100, epsilon=0.3, total=   0.0s\n",
      "[CV] C=100, epsilon=0.3 ..............................................\n",
      "[CV] ............................... C=100, epsilon=0.3, total=   0.0s\n",
      "[CV] C=100, epsilon=0.3 ..............................................\n",
      "[CV] ............................... C=100, epsilon=0.3, total=   0.0s\n",
      "[CV] C=100, epsilon=0.4 ..............................................\n",
      "[CV] ............................... C=100, epsilon=0.4, total=   0.0s\n",
      "[CV] C=100, epsilon=0.4 ..............................................\n",
      "[CV] ............................... C=100, epsilon=0.4, total=   0.0s\n",
      "[CV] C=100, epsilon=0.4 ..............................................\n",
      "[CV] ............................... C=100, epsilon=0.4, total=   0.0s\n",
      "[CV] C=100, epsilon=0.4 ..............................................\n",
      "[CV] ............................... C=100, epsilon=0.4, total=   0.0s\n",
      "[CV] C=100, epsilon=0.4 ..............................................\n",
      "[CV] ............................... C=100, epsilon=0.4, total=   0.0s\n",
      "[CV] C=100, epsilon=0.5 ..............................................\n",
      "[CV] ............................... C=100, epsilon=0.5, total=   0.0s\n",
      "[CV] C=100, epsilon=0.5 ..............................................\n",
      "[CV] ............................... C=100, epsilon=0.5, total=   0.0s\n",
      "[CV] C=100, epsilon=0.5 ..............................................\n",
      "[CV] ............................... C=100, epsilon=0.5, total=   0.0s\n",
      "[CV] C=100, epsilon=0.5 ..............................................\n",
      "[CV] ............................... C=100, epsilon=0.5, total=   0.0s\n",
      "[CV] C=100, epsilon=0.5 ..............................................\n",
      "[CV] ............................... C=100, epsilon=0.5, total=   0.0s\n",
      "[CV] C=100, epsilon=0.6 ..............................................\n",
      "[CV] ............................... C=100, epsilon=0.6, total=   0.0s\n",
      "[CV] C=100, epsilon=0.6 ..............................................\n",
      "[CV] ............................... C=100, epsilon=0.6, total=   0.0s\n",
      "[CV] C=100, epsilon=0.6 ..............................................\n",
      "[CV] ............................... C=100, epsilon=0.6, total=   0.0s\n",
      "[CV] C=100, epsilon=0.6 ..............................................\n",
      "[CV] ............................... C=100, epsilon=0.6, total=   0.0s\n",
      "[CV] C=100, epsilon=0.6 ..............................................\n",
      "[CV] ............................... C=100, epsilon=0.6, total=   0.0s\n",
      "[CV] C=100, epsilon=0.7 ..............................................\n",
      "[CV] ............................... C=100, epsilon=0.7, total=   0.0s\n",
      "[CV] C=100, epsilon=0.7 ..............................................\n",
      "[CV] ............................... C=100, epsilon=0.7, total=   0.0s\n",
      "[CV] C=100, epsilon=0.7 ..............................................\n",
      "[CV] ............................... C=100, epsilon=0.7, total=   0.0s\n",
      "[CV] C=100, epsilon=0.7 ..............................................\n",
      "[CV] ............................... C=100, epsilon=0.7, total=   0.0s\n",
      "[CV] C=100, epsilon=0.7 ..............................................\n",
      "[CV] ............................... C=100, epsilon=0.7, total=   0.0s\n",
      "[CV] C=100, epsilon=0.8 ..............................................\n",
      "[CV] ............................... C=100, epsilon=0.8, total=   0.0s\n",
      "[CV] C=100, epsilon=0.8 ..............................................\n",
      "[CV] ............................... C=100, epsilon=0.8, total=   0.0s\n",
      "[CV] C=100, epsilon=0.8 ..............................................\n",
      "[CV] ............................... C=100, epsilon=0.8, total=   0.0s\n",
      "[CV] C=100, epsilon=0.8 ..............................................\n",
      "[CV] ............................... C=100, epsilon=0.8, total=   0.0s\n",
      "[CV] C=100, epsilon=0.8 ..............................................\n",
      "[CV] ............................... C=100, epsilon=0.8, total=   0.0s\n",
      "[CV] C=100, epsilon=0.9 ..............................................\n",
      "[CV] ............................... C=100, epsilon=0.9, total=   0.0s\n",
      "[CV] C=100, epsilon=0.9 ..............................................\n",
      "[CV] ............................... C=100, epsilon=0.9, total=   0.0s\n",
      "[CV] C=100, epsilon=0.9 ..............................................\n",
      "[CV] ............................... C=100, epsilon=0.9, total=   0.0s\n",
      "[CV] C=100, epsilon=0.9 ..............................................\n",
      "[CV] ............................... C=100, epsilon=0.9, total=   0.0s\n",
      "[CV] C=100, epsilon=0.9 ..............................................\n",
      "[CV] ............................... C=100, epsilon=0.9, total=   0.0s\n",
      "[CV] C=100, epsilon=1.0 ..............................................\n",
      "[CV] ............................... C=100, epsilon=1.0, total=   0.0s\n",
      "[CV] C=100, epsilon=1.0 ..............................................\n",
      "[CV] ............................... C=100, epsilon=1.0, total=   0.0s\n",
      "[CV] C=100, epsilon=1.0 ..............................................\n",
      "[CV] ............................... C=100, epsilon=1.0, total=   0.0s\n",
      "[CV] C=100, epsilon=1.0 ..............................................\n",
      "[CV] ............................... C=100, epsilon=1.0, total=   0.0s\n",
      "[CV] C=100, epsilon=1.0 ..............................................\n",
      "[CV] ............................... C=100, epsilon=1.0, total=   0.0s\n"
     ]
    },
    {
     "name": "stderr",
     "output_type": "stream",
     "text": [
      "[Parallel(n_jobs=1)]: Done 200 out of 200 | elapsed:    0.8s finished\n"
     ]
    },
    {
     "data": {
      "text/plain": [
       "GridSearchCV(cv=None, error_score=nan,\n",
       "             estimator=LinearSVR(C=1.0, dual=True, epsilon=0.0,\n",
       "                                 fit_intercept=True, intercept_scaling=1.0,\n",
       "                                 loss='epsilon_insensitive', max_iter=1000,\n",
       "                                 random_state=None, tol=0.0001, verbose=0),\n",
       "             iid='deprecated', n_jobs=None,\n",
       "             param_grid={'C': [0.1, 1, 10, 100],\n",
       "                         'epsilon': [0.1, 0.2, 0.3, 0.4, 0.5, 0.6, 0.7, 0.8,\n",
       "                                     0.9, 1.0]},\n",
       "             pre_dispatch='2*n_jobs', refit=True, return_train_score=False,\n",
       "             scoring=None, verbose=2)"
      ]
     },
     "execution_count": 175,
     "metadata": {},
     "output_type": "execute_result"
    }
   ],
   "source": [
    "grid = GridSearchCV(LinearSVR(),param_grid,refit=True,verbose=2)\n",
    "grid.fit(x.reshape(-1, 1),y)"
   ]
  },
  {
   "cell_type": "code",
   "execution_count": 176,
   "metadata": {},
   "outputs": [
    {
     "data": {
      "text/plain": [
       "LinearSVR(C=10, dual=True, epsilon=1.0, fit_intercept=True,\n",
       "          intercept_scaling=1.0, loss='epsilon_insensitive', max_iter=1000,\n",
       "          random_state=None, tol=0.0001, verbose=0)"
      ]
     },
     "execution_count": 176,
     "metadata": {},
     "output_type": "execute_result"
    }
   ],
   "source": [
    "grid.best_estimator_"
   ]
  },
  {
   "cell_type": "code",
   "execution_count": 177,
   "metadata": {},
   "outputs": [
    {
     "data": {
      "text/plain": [
       "0.5440492644611755"
      ]
     },
     "execution_count": 177,
     "metadata": {},
     "output_type": "execute_result"
    }
   ],
   "source": [
    "grid.best_score_"
   ]
  },
  {
   "cell_type": "code",
   "execution_count": 178,
   "metadata": {},
   "outputs": [
    {
     "data": {
      "text/plain": [
       "{'C': 10, 'epsilon': 1.0}"
      ]
     },
     "execution_count": 178,
     "metadata": {},
     "output_type": "execute_result"
    }
   ],
   "source": [
    "grid.best_params_"
   ]
  },
  {
   "cell_type": "code",
   "execution_count": 182,
   "metadata": {},
   "outputs": [
    {
     "data": {
      "text/plain": [
       "GridSearchCV(cv=3, error_score=nan,\n",
       "             estimator=BayesianRidge(alpha_1=1e-06, alpha_2=1e-06,\n",
       "                                     alpha_init=None, compute_score=False,\n",
       "                                     copy_X=True, fit_intercept=True,\n",
       "                                     lambda_1=1e-06, lambda_2=1e-06,\n",
       "                                     lambda_init=None, n_iter=300,\n",
       "                                     normalize=False, tol=0.001,\n",
       "                                     verbose=False),\n",
       "             iid='deprecated', n_jobs=-1,\n",
       "             param_grid={'alpha_1': array([1.00000000e-13, 7.74263683e-13, 5.99484250e-...\n",
       "                         'lambda_1': array([1.00000000e-10, 3.59381366e-10, 1.29154967e-09, 4.64158883e-09,\n",
       "       1.66810054e-08, 5.99484250e-08, 2.15443469e-07, 7.74263683e-07,\n",
       "       2.78255940e-06, 1.00000000e-05]),\n",
       "                         'lambda_2': array([1.00000000e-11, 5.99484250e-11, 3.59381366e-10, 2.15443469e-09,\n",
       "       1.29154967e-08, 7.74263683e-08, 4.64158883e-07, 2.78255940e-06,\n",
       "       1.66810054e-05, 1.00000000e-04])},\n",
       "             pre_dispatch='2*n_jobs', refit=True, return_train_score=False,\n",
       "             scoring=None, verbose=0)"
      ]
     },
     "execution_count": 182,
     "metadata": {},
     "output_type": "execute_result"
    }
   ],
   "source": [
    "parameters = {\"alpha_1\": np.logspace(-13,-5,10),\n",
    "              \"alpha_2\": np.logspace(-9,-3,10),\n",
    "              \"lambda_1\": np.logspace(-10,-5,10),\n",
    "              \"lambda_2\": np.logspace(-11,-4,10)}\n",
    "\n",
    "grid_regr = GridSearchCV(BayesianRidge(), parameters, cv=3, n_jobs=-1)\n",
    "grid_regr.fit(x.reshape(-1, 1), y)    "
   ]
  },
  {
   "cell_type": "code",
   "execution_count": 186,
   "metadata": {},
   "outputs": [
    {
     "data": {
      "text/plain": [
       "BayesianRidge(alpha_1=1e-05, alpha_2=1e-09, alpha_init=None,\n",
       "              compute_score=False, copy_X=True, fit_intercept=True,\n",
       "              lambda_1=1e-10, lambda_2=0.0001, lambda_init=None, n_iter=300,\n",
       "              normalize=False, tol=0.001, verbose=False)"
      ]
     },
     "execution_count": 186,
     "metadata": {},
     "output_type": "execute_result"
    }
   ],
   "source": [
    "grid_regr.best_estimator_"
   ]
  },
  {
   "cell_type": "code",
   "execution_count": 187,
   "metadata": {},
   "outputs": [
    {
     "data": {
      "text/plain": [
       "0.6017531508217578"
      ]
     },
     "execution_count": 187,
     "metadata": {},
     "output_type": "execute_result"
    }
   ],
   "source": [
    "grid_regr.best_score_"
   ]
  },
  {
   "cell_type": "code",
   "execution_count": 188,
   "metadata": {},
   "outputs": [
    {
     "data": {
      "text/plain": [
       "{'alpha_1': 1e-05, 'alpha_2': 1e-09, 'lambda_1': 1e-10, 'lambda_2': 0.0001}"
      ]
     },
     "execution_count": 188,
     "metadata": {},
     "output_type": "execute_result"
    }
   ],
   "source": [
    "grid_regr.best_params_"
   ]
  },
  {
   "cell_type": "code",
   "execution_count": 189,
   "metadata": {},
   "outputs": [],
   "source": [
    "reg = BayesianRidge(fit_intercept=True, alpha_1=1e-05, alpha_2=1e-09, lambda_1=1e-10, lambda_2=0.0001).fit(x.reshape(-1, 1), y.reshape(-1, 1))\n",
    "y_tt = reg.predict(x.reshape(-1, 1))\n",
    "\n",
    "lin_SVR = LinearSVR(C=1.0, max_iter=10000, epsilon=1.0)\n",
    "lin_SVR.fit(x.reshape(-1, 1), y)\n",
    "predict = lin_SVR.predict(x.reshape(-1, 1))\n",
    "\n",
    "dec_tree = DecisionTreeRegressor(random_state=1, max_depth=3)\n",
    "dec_tree.fit(data, data[\"Sales\"])\n",
    "dec_predict = dec_tree.predict(data)"
   ]
  },
  {
   "cell_type": "code",
   "execution_count": 190,
   "metadata": {},
   "outputs": [
    {
     "name": "stdout",
     "output_type": "stream",
     "text": [
      "Метрики для линейной модели:\n",
      "\n",
      "Средняя абсолютная ошибка:  2.5508292802546\n",
      "Средняя квадратичная ошибка:  10.512794897173503\n",
      "Коэффициент детерминации:  0.6118698089221382\n",
      "\n",
      "\n",
      "Метрики для SVM-модели:\n",
      "\n",
      "Средняя абсолютная ошибка:  2.5996867264932724\n",
      "Средняя квадратичная ошибка:  11.18839596468356\n",
      "Коэффициент детерминации:  0.586926758668624\n",
      "\n",
      "\n",
      "Метрики для Decision Tree:\n",
      "\n",
      "Средняя абсолютная ошибка:  0.7095532407407409\n",
      "Средняя квадратичная ошибка:  0.7222188657407407\n",
      "Коэффициент детерминации:  0.9733358303760538\n"
     ]
    }
   ],
   "source": [
    "print(\"Метрики для линейной модели:\\n\")\n",
    "print(\"Средняя абсолютная ошибка: \", mean_absolute_error(y, y_tt))\n",
    "print(\"Средняя квадратичная ошибка: \", mean_squared_error(y, y_tt))\n",
    "print(\"Коэффициент детерминации: \", r2_score(y, y_tt))\n",
    "\n",
    "print(\"\\n\\nМетрики для SVM-модели:\\n\")\n",
    "print(\"Средняя абсолютная ошибка: \", mean_absolute_error(y, predict))\n",
    "print(\"Средняя квадратичная ошибка: \", mean_squared_error(y, predict))\n",
    "print(\"Коэффициент детерминации: \", r2_score(y, predict))\n",
    "\n",
    "\n",
    "print(\"\\n\\nМетрики для Decision Tree:\\n\")\n",
    "print(\"Средняя абсолютная ошибка: \", mean_absolute_error(y, dec_predict))\n",
    "print(\"Средняя квадратичная ошибка: \", mean_squared_error(y, dec_predict))\n",
    "print(\"Коэффициент детерминации: \", r2_score(y, dec_predict))"
   ]
  },
  {
   "cell_type": "markdown",
   "metadata": {},
   "source": [
    "## После подбора параметров модели показали лучший результат, чем без подбора."
   ]
  }
 ],
 "metadata": {
  "authors": [
   {
    "name": "Зубаиров Валерий Альбертович"
   }
  ],
  "group": "ИУ5-24М",
  "kernelspec": {
   "display_name": "Python 3",
   "language": "python",
   "name": "python3"
  },
  "lab_number": 5,
  "language_info": {
   "codemirror_mode": {
    "name": "ipython",
    "version": 3
   },
   "file_extension": ".py",
   "mimetype": "text/x-python",
   "name": "python",
   "nbconvert_exporter": "python",
   "pygments_lexer": "ipython3",
   "version": "3.7.7"
  },
  "title": "Линейные модели, SVM и деревья решений."
 },
 "nbformat": 4,
 "nbformat_minor": 4
}
